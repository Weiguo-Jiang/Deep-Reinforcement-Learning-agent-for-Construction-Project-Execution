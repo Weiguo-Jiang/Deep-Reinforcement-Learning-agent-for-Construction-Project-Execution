{
 "cells": [
  {
   "cell_type": "code",
   "execution_count": 1,
   "metadata": {},
   "outputs": [],
   "source": [
    "import torch\n",
    "import torch.nn as nn\n",
    "import torch.nn.functional as F\n",
    "import torch.optim as optim\n",
    "\n",
    "import numpy as np\n",
    "import matplotlib.pyplot as plt\n",
    "\n",
    "import GridWorld_env\n",
    "import gymnasium as gym\n",
    "import random"
   ]
  },
  {
   "cell_type": "code",
   "execution_count": 2,
   "metadata": {},
   "outputs": [
    {
     "name": "stderr",
     "output_type": "stream",
     "text": [
      "c:\\Users\\tutha\\AppData\\Local\\Programs\\Python\\Python311\\Lib\\site-packages\\gymnasium\\utils\\passive_env_checker.py:228: UserWarning: \u001b[33mWARN: Expects `terminated` signal to be a boolean, actual type: <class 'torch.Tensor'>\u001b[0m\n",
      "  logger.warn(\n",
      "c:\\Users\\tutha\\AppData\\Local\\Programs\\Python\\Python311\\Lib\\site-packages\\gymnasium\\utils\\passive_env_checker.py:232: UserWarning: \u001b[33mWARN: Expects `truncated` signal to be a boolean, actual type: <class 'torch.Tensor'>\u001b[0m\n",
      "  logger.warn(\n",
      "c:\\Users\\tutha\\AppData\\Local\\Programs\\Python\\Python311\\Lib\\site-packages\\gymnasium\\utils\\passive_env_checker.py:246: UserWarning: \u001b[33mWARN: The reward returned by `step()` must be a float, int, np.integer or np.floating, actual type: <class 'torch.Tensor'>\u001b[0m\n",
      "  logger.warn(\n"
     ]
    },
    {
     "data": {
      "text/plain": [
       "==========================================================================================\n",
       "Layer (type:depth-idx)                   Output Shape              Param #\n",
       "==========================================================================================\n",
       "Conv_NN                                  [8, 7]                    --\n",
       "├─Conv3d: 1-1                            [8, 64, 4, 4, 4]          5,248\n",
       "├─BatchNorm3d: 1-2                       [8, 64, 4, 4, 4]          128\n",
       "├─Conv3d: 1-3                            [8, 64, 4, 4, 4]          110,656\n",
       "├─BatchNorm3d: 1-4                       [8, 64, 4, 4, 4]          128\n",
       "├─Conv3d: 1-5                            [8, 64, 4, 4, 4]          110,656\n",
       "├─BatchNorm3d: 1-6                       [8, 64, 4, 4, 4]          128\n",
       "├─Linear: 1-7                            [8, 7]                    28,679\n",
       "==========================================================================================\n",
       "Total params: 255,623\n",
       "Trainable params: 255,623\n",
       "Non-trainable params: 0\n",
       "Total mult-adds (Units.MEGABYTES): 116.23\n",
       "==========================================================================================\n",
       "Input size (MB): 0.01\n",
       "Forward/backward pass size (MB): 1.57\n",
       "Params size (MB): 1.02\n",
       "Estimated Total Size (MB): 2.60\n",
       "=========================================================================================="
      ]
     },
     "execution_count": 2,
     "metadata": {},
     "output_type": "execute_result"
    }
   ],
   "source": [
    "class Conv_NN(nn.Module):\n",
    "    def __init__(self, input_dim, action_dim):\n",
    "        super(Conv_NN, self).__init__()\n",
    "        self.conv1 = nn.Conv3d(3, 64, kernel_size=3, stride=1, padding=1)\n",
    "        self.batchnorm1 = nn.BatchNorm3d(64)\n",
    "        self.conv2 = nn.Conv3d(64, 64, kernel_size=3, stride=1, padding=1)\n",
    "        self.batchnorm2 = nn.BatchNorm3d(64)\n",
    "        self.conv3 = nn.Conv3d(64, 64, kernel_size=3, stride=1, padding=1)\n",
    "        self.batchnorm3 = nn.BatchNorm3d(64)\n",
    "        \n",
    "        self.fc1 = nn.Linear(64*input_dim * input_dim * input_dim, action_dim)\n",
    "    def forward(self, x):\n",
    "        x = F.relu(self.batchnorm1(self.conv1(x)))\n",
    "        x = F.relu(self.batchnorm2(self.conv2(x) + x))\n",
    "        x = F.relu(self.batchnorm3(self.conv3(x) + x))\n",
    "        x = nn.Flatten()(x)\n",
    "        x = self.fc1(x)\n",
    "        return x\n",
    "\n",
    "new_env = gym.make('GridWorld_env/GridWorld', dimension_size=4)\n",
    "test = Conv_NN(4, 7)\n",
    "new_env.reset()\n",
    "state, _, _, _, _ = new_env.step(0)\n",
    "state = torch.tensor(state).float()\n",
    "\n",
    "import torchinfo\n",
    "torchinfo.summary(test, (8, 3, 4, 4, 4))"
   ]
  },
  {
   "cell_type": "code",
   "execution_count": 51,
   "metadata": {},
   "outputs": [],
   "source": [
    "def deep_Q_learning():\n",
    "    # Initialised replay buffer\n",
    "    replay_buffer = []\n",
    "    gamma = 0.995\n",
    "    # Intialised Q network\n",
    "    Q_network = Conv_NN(4, 7)\n",
    "    optimizer = optim.SGD(Q_network.parameters(), lr=0.01, momentum=0.9)\n",
    "    EPISODES = 100\n",
    "    # Loop over episodes\n",
    "    for episode in range(EPISODES):\n",
    "        \n",
    "        # Reset environment\n",
    "        new_env.reset()\n",
    "        \n",
    "        # Loop over steps\n",
    "        for timestep in range(2000):\n",
    "            # Get state\n",
    "            Q_network.zero_grad()\n",
    "            state = new_env.unwrapped.get_obs()\n",
    "            state = torch.tensor(state).unsqueeze(0).float()\n",
    "            \n",
    "            q_values = Q_network(state)\n",
    "            action = torch.argmax(q_values)\n",
    "            max_q = torch.max(q_values)\n",
    "            \n",
    "            next_state, reward, done, _, _ = new_env.step(action)\n",
    "            \n",
    "            replay_buffer.append((state.squeeze(0), max_q, action, reward, next_state, done))\n",
    "            \n",
    "            minibatch = random.choices(replay_buffer, k=32)\n",
    "            # Form minibatch\n",
    "            batch_state = torch.stack([i[0] for i in minibatch])\n",
    "            batch_max_q = torch.stack([i[1] for i in minibatch])\n",
    "            batch_action = torch.stack([i[2] for i in minibatch])\n",
    "            batch_reward = torch.stack([i[3] for i in minibatch])\n",
    "            batch_next_state = torch.stack([torch.tensor(i[4]).float() for i in minibatch])\n",
    "            batch_done = torch.stack([i[5] for i in minibatch])\n",
    "            \n",
    "            \n",
    "            # Form target y by boostrapping\n",
    "            target_y = batch_reward.float() + gamma * torch.max(Q_network(batch_next_state).detach(), dim=1)[0] * (1 - batch_done.float())\n",
    "            target_y.requires_grad = False\n",
    "            \n",
    "            y_hat = Q_network(batch_state).max(1)[0]\n",
    "            loss = F.mse_loss(y_hat, target_y)\n",
    "            loss.backward()\n",
    "            optimizer.step()\n",
    "            \n",
    "        "
   ]
  },
  {
   "cell_type": "code",
   "execution_count": 52,
   "metadata": {},
   "outputs": [
    {
     "ename": "KeyboardInterrupt",
     "evalue": "",
     "output_type": "error",
     "traceback": [
      "\u001b[1;31m---------------------------------------------------------------------------\u001b[0m",
      "\u001b[1;31mKeyboardInterrupt\u001b[0m                         Traceback (most recent call last)",
      "Cell \u001b[1;32mIn[52], line 1\u001b[0m\n\u001b[1;32m----> 1\u001b[0m \u001b[43mdeep_Q_learning\u001b[49m\u001b[43m(\u001b[49m\u001b[43m)\u001b[49m\n",
      "Cell \u001b[1;32mIn[51], line 46\u001b[0m, in \u001b[0;36mdeep_Q_learning\u001b[1;34m()\u001b[0m\n\u001b[0;32m     44\u001b[0m y_hat \u001b[38;5;241m=\u001b[39m Q_network(batch_state)\u001b[38;5;241m.\u001b[39mmax(\u001b[38;5;241m1\u001b[39m)[\u001b[38;5;241m0\u001b[39m]\n\u001b[0;32m     45\u001b[0m loss \u001b[38;5;241m=\u001b[39m F\u001b[38;5;241m.\u001b[39mmse_loss(y_hat, target_y)\n\u001b[1;32m---> 46\u001b[0m \u001b[43mloss\u001b[49m\u001b[38;5;241;43m.\u001b[39;49m\u001b[43mbackward\u001b[49m\u001b[43m(\u001b[49m\u001b[43m)\u001b[49m\n\u001b[0;32m     47\u001b[0m optimizer\u001b[38;5;241m.\u001b[39mstep()\n",
      "File \u001b[1;32mc:\\Users\\tutha\\AppData\\Local\\Programs\\Python\\Python311\\Lib\\site-packages\\torch\\_tensor.py:487\u001b[0m, in \u001b[0;36mTensor.backward\u001b[1;34m(self, gradient, retain_graph, create_graph, inputs)\u001b[0m\n\u001b[0;32m    477\u001b[0m \u001b[38;5;28;01mif\u001b[39;00m has_torch_function_unary(\u001b[38;5;28mself\u001b[39m):\n\u001b[0;32m    478\u001b[0m     \u001b[38;5;28;01mreturn\u001b[39;00m handle_torch_function(\n\u001b[0;32m    479\u001b[0m         Tensor\u001b[38;5;241m.\u001b[39mbackward,\n\u001b[0;32m    480\u001b[0m         (\u001b[38;5;28mself\u001b[39m,),\n\u001b[1;32m   (...)\u001b[0m\n\u001b[0;32m    485\u001b[0m         inputs\u001b[38;5;241m=\u001b[39minputs,\n\u001b[0;32m    486\u001b[0m     )\n\u001b[1;32m--> 487\u001b[0m \u001b[43mtorch\u001b[49m\u001b[38;5;241;43m.\u001b[39;49m\u001b[43mautograd\u001b[49m\u001b[38;5;241;43m.\u001b[39;49m\u001b[43mbackward\u001b[49m\u001b[43m(\u001b[49m\n\u001b[0;32m    488\u001b[0m \u001b[43m    \u001b[49m\u001b[38;5;28;43mself\u001b[39;49m\u001b[43m,\u001b[49m\u001b[43m \u001b[49m\u001b[43mgradient\u001b[49m\u001b[43m,\u001b[49m\u001b[43m \u001b[49m\u001b[43mretain_graph\u001b[49m\u001b[43m,\u001b[49m\u001b[43m \u001b[49m\u001b[43mcreate_graph\u001b[49m\u001b[43m,\u001b[49m\u001b[43m \u001b[49m\u001b[43minputs\u001b[49m\u001b[38;5;241;43m=\u001b[39;49m\u001b[43minputs\u001b[49m\n\u001b[0;32m    489\u001b[0m \u001b[43m\u001b[49m\u001b[43m)\u001b[49m\n",
      "File \u001b[1;32mc:\\Users\\tutha\\AppData\\Local\\Programs\\Python\\Python311\\Lib\\site-packages\\torch\\autograd\\__init__.py:200\u001b[0m, in \u001b[0;36mbackward\u001b[1;34m(tensors, grad_tensors, retain_graph, create_graph, grad_variables, inputs)\u001b[0m\n\u001b[0;32m    195\u001b[0m     retain_graph \u001b[38;5;241m=\u001b[39m create_graph\n\u001b[0;32m    197\u001b[0m \u001b[38;5;66;03m# The reason we repeat same the comment below is that\u001b[39;00m\n\u001b[0;32m    198\u001b[0m \u001b[38;5;66;03m# some Python versions print out the first line of a multi-line function\u001b[39;00m\n\u001b[0;32m    199\u001b[0m \u001b[38;5;66;03m# calls in the traceback and some print out the last line\u001b[39;00m\n\u001b[1;32m--> 200\u001b[0m \u001b[43mVariable\u001b[49m\u001b[38;5;241;43m.\u001b[39;49m\u001b[43m_execution_engine\u001b[49m\u001b[38;5;241;43m.\u001b[39;49m\u001b[43mrun_backward\u001b[49m\u001b[43m(\u001b[49m\u001b[43m  \u001b[49m\u001b[38;5;66;43;03m# Calls into the C++ engine to run the backward pass\u001b[39;49;00m\n\u001b[0;32m    201\u001b[0m \u001b[43m    \u001b[49m\u001b[43mtensors\u001b[49m\u001b[43m,\u001b[49m\u001b[43m \u001b[49m\u001b[43mgrad_tensors_\u001b[49m\u001b[43m,\u001b[49m\u001b[43m \u001b[49m\u001b[43mretain_graph\u001b[49m\u001b[43m,\u001b[49m\u001b[43m \u001b[49m\u001b[43mcreate_graph\u001b[49m\u001b[43m,\u001b[49m\u001b[43m \u001b[49m\u001b[43minputs\u001b[49m\u001b[43m,\u001b[49m\n\u001b[0;32m    202\u001b[0m \u001b[43m    \u001b[49m\u001b[43mallow_unreachable\u001b[49m\u001b[38;5;241;43m=\u001b[39;49m\u001b[38;5;28;43;01mTrue\u001b[39;49;00m\u001b[43m,\u001b[49m\u001b[43m \u001b[49m\u001b[43maccumulate_grad\u001b[49m\u001b[38;5;241;43m=\u001b[39;49m\u001b[38;5;28;43;01mTrue\u001b[39;49;00m\u001b[43m)\u001b[49m\n",
      "\u001b[1;31mKeyboardInterrupt\u001b[0m: "
     ]
    }
   ],
   "source": [
    "deep_Q_learning()"
   ]
  }
 ],
 "metadata": {
  "kernelspec": {
   "display_name": "Python 3",
   "language": "python",
   "name": "python3"
  },
  "language_info": {
   "codemirror_mode": {
    "name": "ipython",
    "version": 3
   },
   "file_extension": ".py",
   "mimetype": "text/x-python",
   "name": "python",
   "nbconvert_exporter": "python",
   "pygments_lexer": "ipython3",
   "version": "3.11.2"
  }
 },
 "nbformat": 4,
 "nbformat_minor": 2
}

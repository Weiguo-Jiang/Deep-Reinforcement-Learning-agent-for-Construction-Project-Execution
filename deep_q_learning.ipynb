{
 "cells": [
  {
   "cell_type": "code",
   "outputs": [],
   "source": [
    "import matplotlib\n",
    "import torch\n",
    "import torch.nn as nn\n",
    "import torch.nn.functional as F\n",
    "import torch.optim as optim\n",
    "\n",
    "from tqdm import tqdm\n",
    "import numpy as np\n",
    "import matplotlib.pyplot as plt\n",
    "\n",
    "import GridWorld_env\n",
    "from replay_buffer import PrioritizedReplayBuffer\n",
    "import gymnasium as gym\n",
    "import random\n",
    "import math\n",
    "from itertools import count\n",
    "\n",
    "device = \"cuda\" if torch.cuda.is_available() else \"cpu\"\n",
    "is_ipython = \"inline\" in matplotlib.get_backend()\n",
    "if is_ipython:\n",
    "    from IPython import display"
   ],
   "metadata": {
    "collapsed": false
   },
   "execution_count": null
  },
  {
   "cell_type": "code",
   "outputs": [],
   "source": [
    "from collections import deque, namedtuple\n",
    "\n",
    "Transition = namedtuple(\"Transition\", (\"state\", \"action\", \"next_state\", \"reward\"))\n",
    "\n",
    "class ReplayBuffer(object):\n",
    "    def __init__(self, capacity) -> None:\n",
    "        self.memory = deque([], maxlen=capacity)\n",
    "    \n",
    "    def push(self, *args):\n",
    "        self.memory.append(Transition(*args))\n",
    "        \n",
    "    def sample(self, batch_size):\n",
    "        return random.sample(self.memory, batch_size)\n",
    "    \n",
    "    def __len__(self):\n",
    "        return len(self.memory)\n",
    "    "
   ],
   "metadata": {
    "collapsed": false
   },
   "execution_count": null
  },
  {
   "cell_type": "code",
   "outputs": [],
   "source": [
    "class DQN(nn.Module):\n",
    "    def __init__(self, input_dim, action_dim):\n",
    "        super(DQN, self).__init__()\n",
    "               \n",
    "        self.conv1 = nn.Conv3d(3, 13, 3, 1, 1)\n",
    "        \n",
    "        self.conv2 = nn.Conv3d(32, 32, 3, 1, 1)\n",
    "        \n",
    "        self.fc1 = nn.Linear((64 + 3*2)*input_dim * input_dim * input_dim, 512)\n",
    "        \n",
    "        self.actions = nn.Linear(1024, action_dim)\n",
    "        self.advantage = nn.Linear(1024, 1)\n",
    "    def forward(self, x):\n",
    "        original_state = x\n",
    "               \n",
    "        x = self.conv1(x)\n",
    "\n",
    "        x = torch.cat([x, original_state], dim=1)\n",
    "        x = torch.cat([x, -x], dim = 1)\n",
    "        x = F.relu(x)\n",
    "        \n",
    "        x = self.conv2(x)\n",
    "        x = torch.cat([x, original_state], dim=1)\n",
    "        x = torch.cat([x, -x], dim = 1)\n",
    "\n",
    "        x = F.relu(x)\n",
    "        x = nn.Flatten()(x)\n",
    "        x = self.fc1(x)\n",
    "        x = torch.cat([x, -x], dim = -1)\n",
    "        x = F.relu(x)\n",
    "        actions = self.actions(x)\n",
    "        advantage = self.advantage(x)\n",
    "        x = advantage + (actions - actions.mean(dim=1, keepdim=True))\n",
    "        return x\n",
    "\"\"\"\n",
    "test = DQN(4, 7)\n",
    "import torchinfo\n",
    "print(torchinfo.summary(test, (1, 3, 4, 4, 4)))\"\"\"\n"
   ],
   "metadata": {
    "collapsed": false
   },
   "execution_count": null
  },
  {
   "cell_type": "code",
   "outputs": [],
   "source": [
    "BATCH_SIZE = 32\n",
    "GAMMA = 0.8\n",
    "EPS_START = 0.99\n",
    "EPS_END = 0.01\n",
    "EPS_DECAY = 65000\n",
    "TAU = 0.0005\n",
    "STEPSIZE = 0.0000625\n",
    "BETA_START = 0.4\n",
    "BETA_END = 1\n",
    "BETA_LINEAR_CAP = 250 * 750\n",
    "N_STEP = 3\n",
    "\n",
    "n_actions = 7\n",
    "env = gym.make(\"GridWorld_env/GridWorld\", dimension_size=4, path=\"targets\")\n",
    "env.reset()\n",
    "\n",
    "policy_net = DQN(4, 7)\n",
    "target_net = DQN(4, 7)\n",
    "\n",
    "policy_net.cuda()\n",
    "target_net.cuda()\n",
    "target_net.load_state_dict(policy_net.state_dict())\n",
    "\n",
    "optimiser = optim.Adam(policy_net.parameters(), lr=STEPSIZE, eps=1.5e-4)\n",
    "# memory = ReplayBuffer(256)\n",
    "memory = PrioritizedReplayBuffer(obs_dim=(3,4,4,4), size=1024, n_step=N_STEP, gamma = GAMMA)\n",
    "\n",
    "steps_done = 0"
   ],
   "metadata": {
    "collapsed": false
   },
   "execution_count": null
  },
  {
   "cell_type": "code",
   "outputs": [],
   "source": [
    "def select_action(state, greedy = False):\n",
    "    global steps_done\n",
    "    \n",
    "    sample = random.random()\n",
    "    eps_threshold = EPS_END + (EPS_START - EPS_END) * math.exp(-1. * steps_done / EPS_DECAY)\n",
    "    steps_done += 1\n",
    "    \n",
    "    if greedy:\n",
    "        return policy_net(state).max(1).indices.view(1,1)\n",
    "        \n",
    "    if sample > eps_threshold:\n",
    "        with torch.no_grad():\n",
    "            return policy_net(state).max(1).indices.view(1,1)\n",
    "    else:\n",
    "        return torch.tensor([[env.action_space.sample()]], device=device, dtype=torch.long)\n",
    "    "
   ],
   "metadata": {
    "collapsed": false
   },
   "execution_count": null
  },
  {
   "cell_type": "code",
   "outputs": [],
   "source": [
    "def boltzmann_action(state, num_actions):\n",
    "\n",
    "    global steps_done\n",
    "    steps_done +=1\n",
    "    C = 5\n",
    "    with torch.no_grad():\n",
    "        \n",
    "        Beta = C / (torch.sqrt(num_actions) + 0.05)\n",
    "        mean_reward = policy_net(state)\n",
    "        action_estimate =  mean_reward + Beta*torch.distributions.gumbel.Gumbel(torch.zeros(1,n_actions), torch.ones(1, n_actions)).sample().to(device)\n",
    "\n",
    "    #print(action_estimate)\n",
    "    action = torch.argmax(action_estimate).view(1,1)\n",
    "    #print(action.device)\n",
    "    return action\n"
   ],
   "metadata": {
    "collapsed": false
   },
   "execution_count": null
  },
  {
   "cell_type": "code",
   "outputs": [],
   "source": [
    "episode_durations = []\n",
    "\n",
    "def plot_durations(show_result = False):\n",
    "    plt.figure(1)\n",
    "    durations_t = torch.tensor(episode_durations, dtype=torch.float)\n",
    "    if show_result:\n",
    "        plt.title(\"Result\")\n",
    "    else:\n",
    "        plt.clf()\n",
    "        plt.title(\"Training\")\n",
    "    plt.xlabel(\"Episode\")\n",
    "    plt.ylabel(\"Duration\")\n",
    "    \n",
    "    plt.plot(durations_t.numpy())\n",
    "    \n",
    "    if len(durations_t) >= 100:\n",
    "        means = durations_t.unfold(0, 100, 1).mean(1).view(-1)\n",
    "        means = torch.cat((torch.zeros(99), means))\n",
    "        plt.plot(means.numpy())\n",
    "        \n",
    "        plt.pause(0.001)\n",
    "        if is_ipython:\n",
    "            if not show_result:\n",
    "                display.display(plt.gcf())\n",
    "                display.clear_output(wait=True)\n",
    "            else:\n",
    "                display.display(plt.gcf())\n",
    "                "
   ],
   "metadata": {
    "collapsed": false
   },
   "execution_count": null
  },
  {
   "cell_type": "code",
   "outputs": [],
   "source": [
    "def optimise_model(beta):\n",
    "    if len(memory) < BATCH_SIZE * 16:\n",
    "        return 0, 0\n",
    "    # transitions = memory.sample(BATCH_SIZE)\n",
    "    transitions = memory.sample_batch(beta)\n",
    "    # batch = Transition(*zip(*transitions))\n",
    "    # batch = []\n",
    "    batch = Transition(\n",
    "        torch.tensor(transitions[\"obs\"], device=device),\n",
    "        torch.tensor(transitions[\"acts\"], device=device, dtype=torch.int64),\n",
    "        torch.tensor(transitions[\"next_obs\"], device=device),\n",
    "        torch.tensor(transitions[\"rews\"], device=device)\n",
    "    )\n",
    "    \n",
    "    indices = transitions[\"indices\"]\n",
    "    \n",
    "    non_final_mask = torch.tensor(tuple(map(lambda s: s is not None, batch.next_state)), device=device, dtype=torch.bool)\n",
    "    non_final_next_states = torch.cat([s.unsqueeze(0) for s in batch.next_state if s is not None])\n",
    "    \n",
    "    state_batch = batch.state\n",
    "    action_batch = batch.action\n",
    "    reward_batch = batch.reward\n",
    "    \n",
    "    tmp = policy_net(state_batch)\n",
    "    state_action_values = tmp.gather(1, action_batch.unsqueeze(1))\n",
    "    next_state_values = torch.zeros(BATCH_SIZE, device = device)\n",
    "    \n",
    "    #double dqn\n",
    "    max_a = policy_net(non_final_next_states).detach().max(1).indices\n",
    "    next_state_values[non_final_mask] = target_net(non_final_next_states).detach().gather(1, max_a.unsqueeze(1)).squeeze(1)\n",
    "    #next_state_values[non_final_mask] = target_net(non_final_next_states).max(1).values\n",
    "    with torch.no_grad():\n",
    "        expected_state_action_values = (GAMMA ** N_STEP) * next_state_values + reward_batch\n",
    "    criterion = nn.MSELoss()\n",
    "    \n",
    "    weights = torch.tensor(transitions[\"weights\"], device=device)\n",
    "    weights = weights ** 0.5\n",
    "    \n",
    "    loss = criterion(weights * state_action_values , weights * expected_state_action_values.unsqueeze(1))\n",
    "    \n",
    "    optimiser.zero_grad()\n",
    "    loss.backward()\n",
    "    torch.nn.utils.clip_grad_value_(policy_net.parameters(), 100)\n",
    "    optimiser.step()\n",
    "    \n",
    "    new_priorities = torch.abs(state_action_values - expected_state_action_values.unsqueeze(1)).detach().cpu().numpy() + 1e-7 #loss.detach().cpu().numpy() + 1e-6\n",
    "    #print(len(indices), new_priorities.shape, new_priorities)\n",
    "    memory.update_priorities(indices, new_priorities)\n",
    "    return loss.item(), reward_batch.float()\n",
    "        "
   ],
   "metadata": {
    "collapsed": false
   },
   "execution_count": null
  },
  {
   "cell_type": "code",
   "outputs": [],
   "source": [
    "reward_plot = []"
   ],
   "metadata": {
    "collapsed": false
   },
   "execution_count": null
  },
  {
   "cell_type": "code",
   "outputs": [],
   "source": [
    "if torch.cuda.is_available():\n",
    "    num_episodes = 600\n",
    "else:\n",
    "    num_episodes = 1\n",
    "\n",
    "num_actions = torch.zeros(n_actions, device=device)\n",
    "\n",
    "try:\n",
    "    for i_episode in tqdm(range(num_episodes)):\n",
    "        # Initialize the environment and get its state\n",
    "        state, info = env.reset()\n",
    "        state = torch.tensor(state, dtype=torch.float32, device=device).unsqueeze(0)\n",
    "        cummulative_reward = 0\n",
    "        for t in count():\n",
    "            action = select_action(state)\n",
    "    \n",
    "            num_actions[action] +=1\n",
    "    \n",
    "            observation, reward, terminated, truncated, _ = env.step(action.item())\n",
    "    \n",
    "            cummulative_reward += reward\n",
    "            reward = torch.tensor([reward], device=device)\n",
    "    \n",
    "            done = terminated or truncated\n",
    "            if terminated:\n",
    "                next_state = torch.tensor(observation, dtype=torch.float32, device=device).unsqueeze(0)\n",
    "            else:\n",
    "                next_state = torch.tensor(observation, dtype=torch.float32, device=device).unsqueeze(0)\n",
    "    \n",
    "            # Store the transition in memory\n",
    "            # memory.push(state, action, next_state, reward)\n",
    "            memory.store(state.cpu().numpy(), action, reward, next_state.cpu().numpy(), done)\n",
    "            # Move to the next state\n",
    "            state = next_state\n",
    "    \n",
    "            # Perform one step of the optimization (on the policy network)\n",
    "            beta = BETA_START + (BETA_END - BETA_START) * (steps_done) / BETA_LINEAR_CAP if steps_done < BETA_LINEAR_CAP else BETA_END\n",
    "            l, r = optimise_model(beta)\n",
    "    \n",
    "            # Soft update of the target network's weights\n",
    "            # θ′ ← τ θ + (1 −τ )θ′\n",
    "            target_net_state_dict = target_net.state_dict()\n",
    "            policy_net_state_dict = policy_net.state_dict()\n",
    "            for key in policy_net_state_dict:\n",
    "                target_net_state_dict[key] = policy_net_state_dict[key]*TAU + target_net_state_dict[key]*(1-TAU)\n",
    "            target_net.load_state_dict(target_net_state_dict)\n",
    "            \n",
    "            if done:\n",
    "                episode_durations.append(t + 1)\n",
    "                plot_durations()\n",
    "                break\n",
    "        #if i_episode % 25 == 0:\n",
    "            #target_net.load_state_dict(policy_net.state_dict())\n",
    "            \n",
    "        if i_episode % 10 == 0 and i_episode > 1:\n",
    "            print(\"Episode: {0} Loss {1} Mean Sample Reward {2}:\" .format(i_episode, l, r.mean().item()))\n",
    "            #print(env.unwrapped.get_seqsuence())\n",
    "            env.unwrapped.render()\n",
    "    \n",
    "        reward_plot.append(cummulative_reward)\n",
    "except KeyboardInterrupt:\n",
    "    pass\n",
    "\n",
    "print('Complete')\n",
    "plot_durations(show_result=True)\n",
    "plt.ioff()\n",
    "plt.show()\n"
   ],
   "metadata": {
    "collapsed": false
   },
   "execution_count": null
  },
  {
   "cell_type": "code",
   "outputs": [],
   "source": [
    "plt.plot(reward_plot)\n",
    "plt.show()"
   ],
   "metadata": {
    "collapsed": false
   },
   "execution_count": null
  },
  {
   "cell_type": "code",
   "outputs": [],
   "source": [
    "torch.save(policy_net, \"policy_double_dueling_dqn_crelu_Pbuffer.pt\")\n",
    "torch.save(target_net, \"target_double_dueling_dqn_crelu_Pbuffer.pt\")"
   ],
   "metadata": {
    "collapsed": false
   },
   "execution_count": null
  },
  {
   "cell_type": "code",
   "outputs": [],
   "source": [
    "from time import sleep\n",
    "state, info = env.reset()\n",
    "state = torch.tensor(state, dtype=torch.float32, device=device).unsqueeze(0)\n",
    "for t in count():\n",
    "    action = select_action(state, greedy = True)\n",
    "    observation, reward, terminated, truncated, _ = env.step(action.item())\n",
    "    reward = torch.tensor([reward], device=device)\n",
    "    done = terminated or truncated\n",
    "\n",
    "    if terminated:\n",
    "        next_state = None\n",
    "    else:\n",
    "        next_state = torch.tensor(observation, dtype=torch.float32, device=device).unsqueeze(0)\n",
    "\n",
    "    # Store the transition in memory\n",
    "    #memory.push(state, action, next_state, reward)\n",
    "\n",
    "    # Move to the next state\n",
    "    state = next_state\n",
    "    if terminated or truncated:\n",
    "        print(t)\n",
    "        break\n",
    "\n",
    "    sleep(0.3)\n",
    "    display.clear_output(True)\n",
    "    env.unwrapped.render()\n",
    "\n",
    "    # Perform one step of the optimization (on the policy network)\n"
   ],
   "metadata": {
    "collapsed": false
   },
   "execution_count": null
  },
  {
   "cell_type": "code",
   "execution_count": null,
   "metadata": {},
   "outputs": [],
   "source": [
    "env.reset()\n",
    "state = env.get_obs()\n",
    "state = torch.tensor(state, dtype=torch.float32, device=device).unsqueeze(0)\n",
    "\n",
    "target_net(state)"
   ]
  },
  {
   "cell_type": "code",
   "execution_count": null,
   "metadata": {},
   "outputs": [],
   "source": [
    "env.step(3)\n",
    "env.render()\n",
    "state = env.get_obs()\n",
    "state = torch.tensor(state, dtype=torch.float32, device=device).unsqueeze(0)\n",
    "\n",
    "policy_net(state)"
   ]
  },
  {
   "cell_type": "code",
   "execution_count": null,
   "metadata": {},
   "outputs": [],
   "source": [
    "torch.save(policy_net, \"policy.pt\")"
   ]
  },
  {
   "cell_type": "code",
   "execution_count": null,
   "metadata": {},
   "outputs": [],
   "source": [
    "torch.save(target_net, \"target.pt\")"
   ]
  }
 ],
 "metadata": {
  "kernelspec": {
   "display_name": "Python 3",
   "language": "python",
   "name": "python3"
  },
  "language_info": {
   "codemirror_mode": {
    "name": "ipython",
    "version": 3
   },
   "file_extension": ".py",
   "mimetype": "text/x-python",
   "name": "python",
   "nbconvert_exporter": "python",
   "pygments_lexer": "ipython3",
   "version": "3.10.10"
  }
 },
 "nbformat": 4,
 "nbformat_minor": 2
}

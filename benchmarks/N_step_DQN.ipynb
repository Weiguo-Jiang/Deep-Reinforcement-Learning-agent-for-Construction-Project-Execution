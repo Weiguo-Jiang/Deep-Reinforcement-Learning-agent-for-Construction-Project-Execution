{
 "cells": [
  {
   "cell_type": "code",
   "execution_count": 2,
   "metadata": {},
   "outputs": [],
   "source": [
    "import matplotlib\n",
    "import torch\n",
    "import torch.nn as nn\n",
    "import torch.nn.functional as F\n",
    "import torch.optim as optim\n",
    "\n",
    "import numpy as np\n",
    "import matplotlib.pyplot as plt\n",
    "import GridWorld_env\n",
    "from replay_buffer import ReplayBuffer\n",
    "import gymnasium as gym\n",
    "import random\n",
    "import math\n",
    "from itertools import count\n",
    "\n",
    "device = \"cuda\" if torch.cuda.is_available() else \"cpu\"\n",
    "is_ipython = \"inline\" in matplotlib.get_backend()\n",
    "if is_ipython:\n",
    "    from IPython import display\n",
    "    \n",
    "from collections import deque, namedtuple\n",
    "\n",
    "Transition = namedtuple(\"Transition\", (\"state\", \"action\", \"next_state\", \"reward\"))"
   ]
  },
  {
   "cell_type": "code",
   "execution_count": null,
   "metadata": {},
   "outputs": [],
   "source": [
    "class DQN(nn.Module):\n",
    "    def __init__(self, input_dim, action_dim):\n",
    "        super(DQN, self).__init__()\n",
    "               \n",
    "        self.conv1 = nn.Conv3d(3, 13, 3, 1, 1)\n",
    "        \n",
    "        self.conv2 = nn.Conv3d(32, 32, 3, 1, 1)\n",
    "        \n",
    "        self.fc1 = nn.Linear((64 + 3*2)*input_dim * input_dim * input_dim, 512)\n",
    "        \n",
    "        self.actions = nn.Linear(1024, action_dim)\n",
    "        self.advantage = nn.Linear(1024, 1)\n",
    "    def forward(self, x):\n",
    "        original_state = x\n",
    "               \n",
    "        x = self.conv1(x)\n",
    "        \n",
    "        x = torch.cat([x, original_state], dim=1)\n",
    "        x = torch.cat([x, -x], dim = 1)\n",
    "        x = F.relu(x)\n",
    "        \n",
    "        x = self.conv2(x)\n",
    "        x = torch.cat([x, original_state], dim=1)\n",
    "        x = torch.cat([x, -x], dim = 1)\n",
    "        \n",
    "        x = F.relu(x)\n",
    "        x = nn.Flatten()(x)\n",
    "        x = self.fc1(x)\n",
    "        x = torch.cat([x, -x], dim = -1)\n",
    "        x = F.relu(x)\n",
    "        actions = self.actions(x)\n",
    "        advantage = self.advantage(x)\n",
    "        x = advantage + (actions - actions.mean(dim=1, keepdim=True))\n",
    "        return x\n",
    "\"\"\"\n",
    "test = DQN(4, 7)\n",
    "import torchinfo\n",
    "print(torchinfo.summary(test, (1, 3, 4, 4, 4)))\"\"\"\n"
   ]
  }
 ],
 "metadata": {
  "kernelspec": {
   "display_name": "Python 3",
   "language": "python",
   "name": "python3"
  },
  "language_info": {
   "codemirror_mode": {
    "name": "ipython",
    "version": 3
   },
   "file_extension": ".py",
   "mimetype": "text/x-python",
   "name": "python",
   "nbconvert_exporter": "python",
   "pygments_lexer": "ipython3",
   "version": "3.11.2"
  }
 },
 "nbformat": 4,
 "nbformat_minor": 2
}
